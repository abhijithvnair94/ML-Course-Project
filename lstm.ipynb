{
  "nbformat": 4,
  "nbformat_minor": 0,
  "metadata": {
    "colab": {
      "name": "project.ipynb",
      "provenance": [],
      "collapsed_sections": [],
      "include_colab_link": true
    },
    "kernelspec": {
      "name": "python3",
      "display_name": "Python 3"
    },
    "accelerator": "GPU"
  },
  "cells": [
    {
      "cell_type": "markdown",
      "metadata": {
        "id": "view-in-github",
        "colab_type": "text"
      },
      "source": [
        "<a href=\"https://colab.research.google.com/github/reeshabhkumarranjan/ML-Course-Project/blob/master/lstm.ipynb\" target=\"_parent\"><img src=\"https://colab.research.google.com/assets/colab-badge.svg\" alt=\"Open In Colab\"/></a>"
      ]
    },
    {
      "cell_type": "code",
      "metadata": {
        "id": "W-rTNdvqI6dy",
        "colab_type": "code",
        "colab": {}
      },
      "source": [
        "# imports\n",
        "import numpy as np\n",
        "import glob\n",
        "from keras import Sequential\n",
        "import sklearn, sklearn.model_selection\n",
        "from keras import Sequential\n",
        "from keras.layers import LSTM, Dropout, Dense, TimeDistributed, Conv1D, MaxPooling1D, Flatten, ConvLSTM2D, Activation\n",
        "from keras.utils import to_categorical, plot_model"
      ],
      "execution_count": 0,
      "outputs": []
    },
    {
      "cell_type": "code",
      "metadata": {
        "id": "GqJr6jhBQ_XJ",
        "colab_type": "code",
        "outputId": "a6b8b594-9d38-4972-b393-c2b4c3bbf4c9",
        "colab": {
          "base_uri": "https://localhost:8080/",
          "height": 34
        }
      },
      "source": [
        "# mounting drive\n",
        "from google.colab import drive\n",
        "drive.mount('/content/drive')\n",
        "\n",
        "# loading data\n",
        "colab_directory = '/content/drive/My Drive/Colab Notebooks/ML Course Project/'\n",
        "x = np.load(colab_directory + \"x.npy\")\n",
        "y = np.load(colab_directory + \"y.npy\")\n",
        "x_train, x_test, y_train, y_test = sklearn.model_selection.train_test_split(x, y, test_size=0.2, random_state=2)\n",
        "y_train = to_categorical(y_train)\n",
        "y_test = to_categorical(y_test)"
      ],
      "execution_count": 18,
      "outputs": [
        {
          "output_type": "stream",
          "text": [
            "Drive already mounted at /content/drive; to attempt to forcibly remount, call drive.mount(\"/content/drive\", force_remount=True).\n"
          ],
          "name": "stdout"
        }
      ]
    },
    {
      "cell_type": "code",
      "metadata": {
        "id": "ZMXJYiV5PBnQ",
        "colab_type": "code",
        "colab": {}
      },
      "source": [
        "# common variables\n",
        "epochs = 5\n",
        "showWorking = False\n",
        "showWorkingAverage = True\n",
        "batchSize = 10\n",
        "dropoutRate = 0.5\n",
        "activationFunction = 'relu'\n",
        "iterations = 10"
      ],
      "execution_count": 0,
      "outputs": []
    },
    {
      "cell_type": "code",
      "metadata": {
        "id": "DsZrSlbhANs1",
        "colab_type": "code",
        "outputId": "7dff9d0f-36ca-462a-86f6-13abb08e6c17",
        "colab": {
          "base_uri": "https://localhost:8080/",
          "height": 230
        }
      },
      "source": [
        "# LSTM model\n",
        "accuracy_average = 0\n",
        "for i in range(iterations):\n",
        "\tmodel_lstm = Sequential([\n",
        "\t\tLSTM(200, input_shape=(x_train.shape[1], x_train.shape[2])),\n",
        "\t\t# Dropout(dropoutRate),\n",
        "\t\tDense(200),\n",
        "\t\tActivation(activationFunction),\n",
        "\t\tDense(y_train.shape[1]),\n",
        "\t\tActivation('softmax'),\n",
        "\t])\n",
        " \n",
        "\t# save the architecture of the model\n",
        "\tplot_model(model_lstm, colab_directory + 'model_lstm.png')\n",
        "\n",
        "\tmodel_lstm.compile(loss='categorical_crossentropy', optimizer='adam', metrics=['accuracy'])\n",
        "\tmodel_lstm.fit(x_train, y_train, epochs=epochs, batch_size=batchSize, verbose=showWorking)\n",
        "\taccuracy_average += model_lstm.evaluate(x_test, y_test, batch_size=batchSize, verbose=showWorking)[1]\n",
        "\tif showWorkingAverage:\n",
        "\t\tprint(str(i + 1) + \": \" + str(accuracy_average / (i + 1)))\n",
        "accuracy_average /= iterations\n",
        "print(\"Accuracy of LSTM model on test: \", accuracy_average)\n",
        "print()"
      ],
      "execution_count": 20,
      "outputs": [
        {
          "output_type": "stream",
          "text": [
            "1: 0.7899999976158142\n",
            "2: 0.8349999964237214\n",
            "3: 0.7533333331346513\n",
            "4: 0.7924999974668027\n",
            "5: 0.7899999970197678\n",
            "6: 0.8099999949336052\n",
            "7: 0.8085714250802994\n",
            "8: 0.8187499959021807\n",
            "9: 0.8277777728107241\n",
            "10: 0.8389999946951866\n",
            "Accuracy of LSTM model on test:  0.8389999946951866\n",
            "\n"
          ],
          "name": "stdout"
        }
      ]
    },
    {
      "cell_type": "code",
      "metadata": {
        "id": "U7aai0_qEzHo",
        "colab_type": "code",
        "outputId": "b7d45371-601a-451f-f832-f9d8771d71e7",
        "colab": {
          "base_uri": "https://localhost:8080/",
          "height": 230
        }
      },
      "source": [
        "# CNN-LSTM\n",
        "accuracy_average = 0\n",
        "for i in range(iterations):\n",
        "\ttrainX = x_train.reshape((x_train.shape[0], 3, 20, x_train.shape[2]))\n",
        "\ttestX = x_test.reshape((x_test.shape[0], 3, 20, x_test.shape[2]))\n",
        "\n",
        "\tconv1 = Conv1D(filters=64, kernel_size=3, activation=activationFunction)\n",
        "\tconv2 = Conv1D(filters=64, kernel_size=3, activation=activationFunction)\n",
        "\tmodel_lstm_cnn = Sequential([\n",
        "\t\tTimeDistributed(conv1, input_shape=(None, 20, x_train.shape[2])),\n",
        "\t\tTimeDistributed(conv2),\n",
        "\t\t# TimeDistributed(Dropout(dropoutRate)),\n",
        "\t\tTimeDistributed(MaxPooling1D(pool_size=2)),\n",
        "\t\tTimeDistributed(Flatten()),\n",
        "\t\tLSTM(200),\n",
        "\t\t# Dropout(dropoutRate),\n",
        "\t\tDense(200),\n",
        "\t\tActivation(activationFunction),\n",
        "\t\tDense(y_train.shape[1]),\n",
        "\t\tActivation('softmax')\n",
        "\t])\n",
        " \n",
        "\t# save the architecture of the model\n",
        "\tplot_model(model_lstm_cnn, colab_directory + 'model_lstm_cnn.png')\n",
        "\n",
        "\tmodel_lstm_cnn.compile(loss='categorical_crossentropy', optimizer='adam', metrics=['accuracy'])\n",
        "\tmodel_lstm_cnn.fit(trainX, y_train, epochs=epochs, batch_size=batchSize, verbose=showWorking)\n",
        "\n",
        "\taccuracy_average += model_lstm_cnn.evaluate(testX, y_test, batch_size=batchSize, verbose=showWorking)[1]\n",
        "\tif showWorkingAverage:\n",
        "\t\tprint(str(i + 1) + \": \" + str(accuracy_average / (i + 1)))\n",
        "accuracy_average /= iterations\n",
        "print(\"Accuracy of LSTM-CNN model on test: \", accuracy_average)\n",
        "print()"
      ],
      "execution_count": 21,
      "outputs": [
        {
          "output_type": "stream",
          "text": [
            "1: 0.9499999940395355\n",
            "2: 0.9299999922513962\n",
            "3: 0.9266666571299235\n",
            "4: 0.92999999076128\n",
            "5: 0.9299999916553497\n",
            "6: 0.9266666591167451\n",
            "7: 0.9271428491388048\n",
            "8: 0.9262499921023846\n",
            "9: 0.9266666577921973\n",
            "10: 0.9259999907016754\n",
            "Accuracy of LSTM-CNN model on test:  0.9259999907016754\n",
            "\n"
          ],
          "name": "stdout"
        }
      ]
    },
    {
      "cell_type": "code",
      "metadata": {
        "id": "RXvEjbdJUvSP",
        "colab_type": "code",
        "outputId": "9ddbd7cc-0010-4eda-ed79-2af014e0a577",
        "colab": {
          "base_uri": "https://localhost:8080/",
          "height": 230
        }
      },
      "source": [
        "# LSTM + conv\n",
        "accuracy_average = 0\n",
        "for i in range(iterations):\n",
        "\ttrainX = x_train.reshape((x_train.shape[0], 3, 1, 20, x_train.shape[2]))\n",
        "\ttestX = x_test.reshape((x_test.shape[0], 3, 1, 20, x_test.shape[2]))\n",
        "\n",
        "\tmodel_lstm_conv = Sequential([\n",
        "\t\tConvLSTM2D(filters=64, kernel_size=(1,3), input_shape=(3, 1, 20, x_train.shape[2])),\n",
        "\t\tActivation(activationFunction),\n",
        "\t\t# Dropout(dropoutRate),\n",
        "\t\tFlatten(),\n",
        "\t\tDense(200),\n",
        "\t\tActivation(activationFunction),\n",
        "\t\tDense(y_train.shape[1]),\n",
        "\t\tActivation('softmax')\n",
        "\t])\n",
        " \n",
        "\t# save the architecture of the model\n",
        "\tplot_model(model_lstm_conv, colab_directory + 'model_lstm_conv.png')\n",
        " \n",
        "\tmodel_lstm_conv.compile(loss='categorical_crossentropy', optimizer='adam', metrics=['accuracy'])\n",
        "\tmodel_lstm_conv.fit(trainX, y_train, epochs=epochs, batch_size=batchSize, verbose=showWorking)\n",
        "\n",
        "\taccuracy_average += model_lstm_conv.evaluate(testX, y_test, batch_size=batchSize, verbose=showWorking)[1]\n",
        "\tif showWorkingAverage:\n",
        "\t\tprint(str(i + 1) + \": \" + str(accuracy_average / (i + 1)))\n",
        "accuracy_average /= iterations\n",
        "print(\"Accuracy of LSTM-Conv model on test: \", accuracy_average)\n",
        "print()"
      ],
      "execution_count": 22,
      "outputs": [
        {
          "output_type": "stream",
          "text": [
            "1: 0.8799999952316284\n",
            "2: 0.8999999910593033\n",
            "3: 0.9066666583220164\n",
            "4: 0.9149999901652337\n",
            "5: 0.919999990463257\n",
            "6: 0.9183333228031795\n",
            "7: 0.9214285612106324\n",
            "8: 0.9224999897181989\n",
            "9: 0.9022222134802078\n",
            "10: 0.905999991297722\n",
            "Accuracy of LSTM-Conv model on test:  0.905999991297722\n",
            "\n"
          ],
          "name": "stdout"
        }
      ]
    }
  ]
}