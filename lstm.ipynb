{
  "nbformat": 4,
  "nbformat_minor": 0,
  "metadata": {
    "colab": {
      "name": "project.ipynb",
      "provenance": [],
      "collapsed_sections": [],
      "include_colab_link": true
    },
    "kernelspec": {
      "name": "python3",
      "display_name": "Python 3"
    },
    "accelerator": "GPU"
  },
  "cells": [
    {
      "cell_type": "markdown",
      "metadata": {
        "id": "view-in-github",
        "colab_type": "text"
      },
      "source": [
        "<a href=\"https://colab.research.google.com/github/reeshabhkumarranjan/ML-Course-Project/blob/master/lstm.ipynb\" target=\"_parent\"><img src=\"https://colab.research.google.com/assets/colab-badge.svg\" alt=\"Open In Colab\"/></a>"
      ]
    },
    {
      "cell_type": "code",
      "metadata": {
        "id": "W-rTNdvqI6dy",
        "colab_type": "code",
        "colab": {}
      },
      "source": [
        "# imports\n",
        "import numpy as np\n",
        "import glob\n",
        "from keras import Sequential\n",
        "import sklearn, sklearn.model_selection\n",
        "from keras import Sequential\n",
        "from keras.layers import LSTM, Dropout, Dense, TimeDistributed, Conv1D, MaxPooling1D, Flatten, ConvLSTM2D, Activation\n",
        "from keras.utils import to_categorical"
      ],
      "execution_count": 0,
      "outputs": []
    },
    {
      "cell_type": "code",
      "metadata": {
        "id": "GqJr6jhBQ_XJ",
        "colab_type": "code",
        "colab": {
          "base_uri": "https://localhost:8080/",
          "height": 34
        },
        "outputId": "c60f327d-dff4-4570-acd2-4a64834964a1"
      },
      "source": [
        "# mounting drive\n",
        "from google.colab import drive\n",
        "drive.mount('/content/drive')\n",
        "\n",
        "# loading data\n",
        "colab_directory = '/content/drive/My Drive/Colab Notebooks/ML Course Project/'\n",
        "x = np.load(colab_directory + \"x.npy\")\n",
        "y = np.load(colab_directory + \"y.npy\")\n",
        "x_train, x_test, y_train, y_test = sklearn.model_selection.train_test_split(x, y, test_size=0.2, random_state=2)\n",
        "y_train = to_categorical(y_train)\n",
        "y_test = to_categorical(y_test)"
      ],
      "execution_count": 50,
      "outputs": [
        {
          "output_type": "stream",
          "text": [
            "Drive already mounted at /content/drive; to attempt to forcibly remount, call drive.mount(\"/content/drive\", force_remount=True).\n"
          ],
          "name": "stdout"
        }
      ]
    },
    {
      "cell_type": "code",
      "metadata": {
        "id": "ZMXJYiV5PBnQ",
        "colab_type": "code",
        "colab": {}
      },
      "source": [
        "# common variables\n",
        "epochs = 30\n",
        "showWorking = False\n",
        "showWorkingAverage = True\n",
        "batchSize = 200\n",
        "dropoutRate = 0.3\n",
        "activationFunction = 'relu'\n",
        "iterations = 10"
      ],
      "execution_count": 0,
      "outputs": []
    },
    {
      "cell_type": "code",
      "metadata": {
        "id": "DsZrSlbhANs1",
        "colab_type": "code",
        "outputId": "702d03ed-27ef-4128-959f-bd3f5f64ba3a",
        "colab": {
          "base_uri": "https://localhost:8080/",
          "height": 230
        }
      },
      "source": [
        "# LSTM model\n",
        "accuracy_average = 0\n",
        "for i in range(iterations):\n",
        "\tmodel_lstm = Sequential([\n",
        "\t\tLSTM(200, input_shape=(x_train.shape[1], x_train.shape[2])),\n",
        "\t\tDropout(dropoutRate),\n",
        "\t\tDense(200),\n",
        "\t\tActivation(activationFunction),\n",
        "\t\tDense(y_train.shape[1]),\n",
        "\t\tActivation('softmax'),\n",
        "\t])\n",
        "\tmodel_lstm.compile(loss='categorical_crossentropy', optimizer='adam', metrics=['accuracy'])\n",
        "\tmodel_lstm.fit(x_train, y_train, epochs=epochs, batch_size=batchSize, verbose=showWorking)\n",
        "\taccuracy_average += model_lstm.evaluate(x_test, y_test, batch_size=batchSize, verbose=showWorking)[1]\n",
        "\tif showWorkingAverage:\n",
        "\t\tprint(str(i + 1) + \": \" + str(accuracy_average / (i + 1)))\n",
        "accuracy_average /= iterations\n",
        "print(\"Accuracy of LSTM model on test: \", accuracy_average)\n",
        "print()"
      ],
      "execution_count": 52,
      "outputs": [
        {
          "output_type": "stream",
          "text": [
            "1: 0.8999999761581421\n",
            "2: 0.9249999821186066\n",
            "3: 0.9299999872843424\n",
            "4: 0.9324999898672104\n",
            "5: 0.9319999933242797\n",
            "6: 0.9333333273728689\n",
            "7: 0.8899999942098346\n",
            "8: 0.8862499967217445\n",
            "9: 0.8911111089918349\n",
            "10: 0.8930000007152558\n",
            "Accuracy of LSTM model on test:  0.8930000007152558\n",
            "\n"
          ],
          "name": "stdout"
        }
      ]
    },
    {
      "cell_type": "code",
      "metadata": {
        "id": "U7aai0_qEzHo",
        "colab_type": "code",
        "outputId": "125d5392-3138-436a-8b1a-7084ec6e2bec",
        "colab": {
          "base_uri": "https://localhost:8080/",
          "height": 230
        }
      },
      "source": [
        "# CNN-LSTM\n",
        "accuracy_average = 0\n",
        "for i in range(iterations):\n",
        "\ttrainX = x_train.reshape((x_train.shape[0], 3, 20, x_train.shape[2]))\n",
        "\ttestX = x_test.reshape((x_test.shape[0], 3, 20, x_test.shape[2]))\n",
        "\n",
        "\tconv1 = Conv1D(filters=64, kernel_size=5, activation=activationFunction)\n",
        "\tconv2 = Conv1D(filters=64, kernel_size=5, activation=activationFunction)\n",
        "\tmodel_lstm_cnn = Sequential([\n",
        "\t\tTimeDistributed(conv1, input_shape=(None, 20, x_train.shape[2])),\n",
        "\t\tTimeDistributed(conv2),\n",
        "\t\tTimeDistributed(Dropout(dropoutRate)),\n",
        "\t\tTimeDistributed(MaxPooling1D(pool_size=2)),\n",
        "\t\tTimeDistributed(Flatten()),\n",
        "\t\tLSTM(200),\n",
        "\t\tDropout(dropoutRate),\n",
        "\t\tDense(200),\n",
        "\t\tActivation(activationFunction),\n",
        "\t\tDense(y_train.shape[1]),\n",
        "\t\tActivation('softmax')\n",
        "\t])\n",
        "\tmodel_lstm_cnn.compile(loss='categorical_crossentropy', optimizer='adam', metrics=['accuracy'])\n",
        "\tmodel_lstm_cnn.fit(trainX, y_train, epochs=epochs, batch_size=batchSize, verbose=showWorking)\n",
        "\n",
        "\taccuracy_average += model_lstm_cnn.evaluate(testX, y_test, batch_size=batchSize, verbose=showWorking)[1]\n",
        "\tif showWorkingAverage:\n",
        "\t\tprint(str(i + 1) + \": \" + str(accuracy_average / (i + 1)))\n",
        "accuracy_average /= iterations\n",
        "print(\"Accuracy of LSTM-CNN model on test: \", accuracy_average)\n",
        "print()"
      ],
      "execution_count": 53,
      "outputs": [
        {
          "output_type": "stream",
          "text": [
            "1: 0.949999988079071\n",
            "2: 0.9449999928474426\n",
            "3: 0.9399999976158142\n",
            "4: 0.9399999976158142\n",
            "5: 0.9360000014305114\n",
            "6: 0.9316666722297668\n",
            "7: 0.9300000071525574\n",
            "8: 0.9287500083446503\n",
            "9: 0.9311111172040304\n",
            "10: 0.9330000042915344\n",
            "Accuracy of LSTM-CNN model on test:  0.9330000042915344\n",
            "\n"
          ],
          "name": "stdout"
        }
      ]
    },
    {
      "cell_type": "code",
      "metadata": {
        "id": "RXvEjbdJUvSP",
        "colab_type": "code",
        "outputId": "cbe4dcad-21f0-40b2-ccb7-0805a622b9fd",
        "colab": {
          "base_uri": "https://localhost:8080/",
          "height": 230
        }
      },
      "source": [
        "# LSTM + conv\n",
        "accuracy_average = 0\n",
        "for i in range(iterations):\n",
        "\ttrainX = x_train.reshape((x_train.shape[0], 3, 1, 20, x_train.shape[2]))\n",
        "\ttestX = x_test.reshape((x_test.shape[0], 3, 1, 20, x_test.shape[2]))\n",
        "\n",
        "\tmodel_lstm_conv = Sequential([\n",
        "\t\tConvLSTM2D(filters=100, kernel_size=(1,5), input_shape=(3, 1, 20, x_train.shape[2])),\n",
        "\t\tActivation(activationFunction),\n",
        "\t\tDropout(dropoutRate),\n",
        "\t\tFlatten(),\n",
        "\t\tDense(200),\n",
        "\t\tActivation(activationFunction),\n",
        "\t\tDense(y_train.shape[1]),\n",
        "\t\tActivation('softmax')\n",
        "\t])\n",
        "\tmodel_lstm_conv.compile(loss='categorical_crossentropy', optimizer='adam', metrics=['accuracy'])\n",
        "\tmodel_lstm_conv.fit(trainX, y_train, epochs=epochs, batch_size=batchSize, verbose=showWorking)\n",
        "\n",
        "\taccuracy_average += model_lstm_conv.evaluate(testX, y_test, batch_size=batchSize, verbose=showWorking)[1]\n",
        "\tif showWorkingAverage:\n",
        "\t\tprint(str(i + 1) + \": \" + str(accuracy_average / (i + 1)))\n",
        "accuracy_average /= iterations\n",
        "print(\"Accuracy of LSTM-Conv model on test: \", accuracy_average)\n",
        "print()"
      ],
      "execution_count": 54,
      "outputs": [
        {
          "output_type": "stream",
          "text": [
            "1: 0.9399999976158142\n",
            "2: 0.9300000071525574\n",
            "3: 0.9300000071525574\n",
            "4: 0.9300000071525574\n",
            "5: 0.9300000071525574\n",
            "6: 0.9300000071525574\n",
            "7: 0.9300000071525574\n",
            "8: 0.9300000071525574\n",
            "9: 0.9300000071525574\n",
            "10: 0.9300000071525574\n",
            "Accuracy of LSTM-Conv model on test:  0.9300000071525574\n",
            "\n"
          ],
          "name": "stdout"
        }
      ]
    }
  ]
}