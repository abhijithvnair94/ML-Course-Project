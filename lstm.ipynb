{
  "nbformat": 4,
  "nbformat_minor": 0,
  "metadata": {
    "colab": {
      "name": "project.ipynb",
      "provenance": [],
      "collapsed_sections": [],
      "include_colab_link": true
    },
    "kernelspec": {
      "name": "python3",
      "display_name": "Python 3"
    },
    "accelerator": "GPU"
  },
  "cells": [
    {
      "cell_type": "markdown",
      "metadata": {
        "id": "view-in-github",
        "colab_type": "text"
      },
      "source": [
        "<a href=\"https://colab.research.google.com/github/reeshabhkumarranjan/ML-Course-Project/blob/master/lstm.ipynb\" target=\"_parent\"><img src=\"https://colab.research.google.com/assets/colab-badge.svg\" alt=\"Open In Colab\"/></a>"
      ]
    },
    {
      "cell_type": "code",
      "metadata": {
        "id": "W-rTNdvqI6dy",
        "colab_type": "code",
        "colab": {}
      },
      "source": [
        "# imports\n",
        "import numpy as np\n",
        "import glob\n",
        "from keras import Sequential\n",
        "import sklearn, sklearn.model_selection\n",
        "from keras import Sequential\n",
        "from keras.layers import LSTM, Dropout, Dense, TimeDistributed, Conv1D, MaxPooling1D, Flatten, ConvLSTM2D, Activation\n",
        "from keras.utils import to_categorical"
      ],
      "execution_count": 0,
      "outputs": []
    },
    {
      "cell_type": "code",
      "metadata": {
        "id": "GLvObF9kQtRW",
        "colab_type": "code",
        "outputId": "eba5bbe3-24e2-4703-a7cd-9606806ea15f",
        "colab": {
          "base_uri": "https://localhost:8080/",
          "height": 125
        }
      },
      "source": [
        "# mounting drive\n",
        "from google.colab import drive\n",
        "drive.mount('/content/drive')"
      ],
      "execution_count": 2,
      "outputs": [
        {
          "output_type": "stream",
          "text": [
            "Go to this URL in a browser: https://accounts.google.com/o/oauth2/auth?client_id=947318989803-6bn6qk8qdgf4n4g3pfee6491hc0brc4i.apps.googleusercontent.com&redirect_uri=urn%3aietf%3awg%3aoauth%3a2.0%3aoob&response_type=code&scope=email%20https%3a%2f%2fwww.googleapis.com%2fauth%2fdocs.test%20https%3a%2f%2fwww.googleapis.com%2fauth%2fdrive%20https%3a%2f%2fwww.googleapis.com%2fauth%2fdrive.photos.readonly%20https%3a%2f%2fwww.googleapis.com%2fauth%2fpeopleapi.readonly\n",
            "\n",
            "Enter your authorization code:\n",
            "··········\n",
            "Mounted at /content/drive\n"
          ],
          "name": "stdout"
        }
      ]
    },
    {
      "cell_type": "code",
      "metadata": {
        "id": "GqJr6jhBQ_XJ",
        "colab_type": "code",
        "colab": {}
      },
      "source": [
        "# loading data\n",
        "colab_directory = '/content/drive/My Drive/Colab Notebooks/ML Course Project/'\n",
        "x = np.load(colab_directory + \"x.npy\")\n",
        "y = np.load(colab_directory + \"y.npy\")\n",
        "x_train, x_test, y_train, y_test = sklearn.model_selection.train_test_split(x, y, test_size=0.2, random_state=2)\n",
        "y_train = to_categorical(y_train)\n",
        "y_test = to_categorical(y_test)"
      ],
      "execution_count": 0,
      "outputs": []
    },
    {
      "cell_type": "code",
      "metadata": {
        "id": "DsZrSlbhANs1",
        "colab_type": "code",
        "colab": {
          "base_uri": "https://localhost:8080/",
          "height": 34
        },
        "outputId": "5fed1877-e6dc-423c-814e-5c3b7c6d110e"
      },
      "source": [
        "# LSTM model\n",
        "epochs = 15\n",
        "model_lstm = Sequential([\n",
        "\tLSTM(200, input_shape=(x_train.shape[1], x_train.shape[2])),\n",
        "\tDropout(0.5),\n",
        "\tDense(200),\n",
        "\tActivation('relu'),\n",
        "\tDense(y_train.shape[1]),\n",
        "\tActivation('softmax'),\n",
        "])\n",
        "model_lstm.compile(loss='categorical_crossentropy', optimizer='adam', metrics=['accuracy'])\n",
        "model_lstm.fit(x_train, y_train, epochs=epochs, batch_size=64, verbose=False)\n",
        "useless, accuracy = model_lstm.evaluate(x_test, y_test, batch_size=64, verbose=False)\n",
        "print(\"Accuracy of LSTM model on test: \", accuracy)"
      ],
      "execution_count": 18,
      "outputs": [
        {
          "output_type": "stream",
          "text": [
            "Accuracy of LSTM model on test:  0.8699999928474427\n"
          ],
          "name": "stdout"
        }
      ]
    },
    {
      "cell_type": "code",
      "metadata": {
        "id": "U7aai0_qEzHo",
        "colab_type": "code",
        "colab": {
          "base_uri": "https://localhost:8080/",
          "height": 34
        },
        "outputId": "297e118f-d76e-4d64-801f-38b71dd11cb1"
      },
      "source": [
        "# CNN-LSTM\n",
        "epochs = 15\n",
        "trainX = x_train.reshape((x_train.shape[0], 3, 20, x_train.shape[2]))\n",
        "testX = x_test.reshape((x_test.shape[0], 3, 20, x_test.shape[2]))\n",
        "\n",
        "conv1 = Conv1D(filters=64, kernel_size=3, activation='relu')\n",
        "conv2 = Conv1D(filters=64, kernel_size=3, activation='relu')\n",
        "model_lstm_cnn = Sequential([\n",
        "\tTimeDistributed(conv1, input_shape=(None, 20, x_train.shape[2])),\n",
        "\tTimeDistributed(conv2),\n",
        "\tTimeDistributed(Dropout(0.5)),\n",
        "\tTimeDistributed(MaxPooling1D(pool_size=2)),\n",
        "\tTimeDistributed(Flatten()),\n",
        "\tLSTM(200),\n",
        "\tDropout(0.5),\n",
        "\tDense(200),\n",
        "\tActivation('relu'),\n",
        "\tDense(y_train.shape[1]),\n",
        "\tActivation('softmax')\n",
        "])\n",
        "model_lstm_cnn.compile(loss='categorical_crossentropy', optimizer='adam', metrics=['accuracy'])\n",
        "model_lstm_cnn.fit(trainX, y_train, epochs=epochs, batch_size=64, verbose=False)\n",
        "useless, accuracy = model_lstm_cnn.evaluate(testX, y_test, batch_size=64, verbose=False)\n",
        "print(\"Accuracy on test-set for LSTM-CNN: \", accuracy)"
      ],
      "execution_count": 25,
      "outputs": [
        {
          "output_type": "stream",
          "text": [
            "Accuracy on test-set for LSTM-CNN:  0.9299999976158142\n"
          ],
          "name": "stdout"
        }
      ]
    },
    {
      "cell_type": "code",
      "metadata": {
        "id": "RXvEjbdJUvSP",
        "colab_type": "code",
        "colab": {
          "base_uri": "https://localhost:8080/",
          "height": 34
        },
        "outputId": "fccf29ac-6726-456e-b75c-badaa6c73bc7"
      },
      "source": [
        "# LSTM + conv\n",
        "epochs = 15\n",
        "trainX = x_train.reshape((x_train.shape[0], 3, 1, 20, x_train.shape[2]))\n",
        "testX = x_test.reshape((x_test.shape[0], 3, 1, 20, x_test.shape[2]))\n",
        "\n",
        "model = Sequential([\n",
        "\tConvLSTM2D(filters=100, kernel_size=(1,3), input_shape=(3, 1, 20, x_train.shape[2])),\n",
        "\tActivation('relu'),\n",
        "\tDropout(0.5),\n",
        "\tFlatten(),\n",
        "\tDense(200),\n",
        "\tActivation('relu'),\n",
        "\tDense(y_train.shape[1]),\n",
        "\tActivation('softmax')\n",
        "])\n",
        "model.compile(loss='categorical_crossentropy', optimizer='adam', metrics=['accuracy'])\n",
        "model.fit(trainX, y_train, epochs=epochs, batch_size=64, verbose=False)\n",
        "useless, accuracy = model.evaluate(testX, y_test, batch_size=64, verbose=False)\n",
        "print(\"Accuracy on test for LSTM-Conv: \", accuracy)"
      ],
      "execution_count": 27,
      "outputs": [
        {
          "output_type": "stream",
          "text": [
            "Accuracy on test for LSTM-Conv:  0.9300000023841858\n"
          ],
          "name": "stdout"
        }
      ]
    }
  ]
}