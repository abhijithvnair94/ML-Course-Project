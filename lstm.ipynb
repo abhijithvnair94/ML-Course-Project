{
  "nbformat": 4,
  "nbformat_minor": 0,
  "metadata": {
    "colab": {
      "name": "project.ipynb",
      "provenance": [],
      "collapsed_sections": [],
      "include_colab_link": true
    },
    "kernelspec": {
      "name": "python3",
      "display_name": "Python 3"
    },
    "accelerator": "GPU"
  },
  "cells": [
    {
      "cell_type": "markdown",
      "metadata": {
        "id": "view-in-github",
        "colab_type": "text"
      },
      "source": [
        "<a href=\"https://colab.research.google.com/github/reeshabhkumarranjan/ML-Course-Project/blob/master/lstm.ipynb\" target=\"_parent\"><img src=\"https://colab.research.google.com/assets/colab-badge.svg\" alt=\"Open In Colab\"/></a>"
      ]
    },
    {
      "cell_type": "code",
      "metadata": {
        "id": "W-rTNdvqI6dy",
        "colab_type": "code",
        "colab": {}
      },
      "source": [
        "# imports\n",
        "import numpy as np\n",
        "import glob\n",
        "from keras import Sequential\n",
        "import sklearn, sklearn.model_selection\n",
        "from keras import Sequential\n",
        "from keras.layers import LSTM, Dropout, Dense, TimeDistributed, Conv1D, MaxPooling1D, Flatten, ConvLSTM2D, Activation\n",
        "from keras.utils import to_categorical, plot_model\n",
        "from sklearn.svm import SVC\n",
        "# from sklearn.externals import joblib\n",
        "from joblib import dump, load"
      ],
      "execution_count": 0,
      "outputs": []
    },
    {
      "cell_type": "code",
      "metadata": {
        "id": "GqJr6jhBQ_XJ",
        "colab_type": "code",
        "outputId": "7077bf6b-8060-4a0d-8794-d86ec7f07de4",
        "colab": {
          "base_uri": "https://localhost:8080/",
          "height": 34
        }
      },
      "source": [
        "# mounting drive\n",
        "from google.colab import drive\n",
        "drive.mount('/content/drive')\n",
        "\n",
        "# loading data\n",
        "colab_directory = '/content/drive/My Drive/Colab Notebooks/ML Course Project/'\n",
        "x = np.load(colab_directory + \"x.npy\")\n",
        "y = np.load(colab_directory + \"y.npy\")\n",
        "x_train, x_test, y_train, y_test = sklearn.model_selection.train_test_split(x, y, test_size=0.2, random_state=2)\n",
        "y_train_classes = y_train\n",
        "y_test_classes = y_test\n",
        "y_train = to_categorical(y_train)\n",
        "y_test = to_categorical(y_test)"
      ],
      "execution_count": 192,
      "outputs": [
        {
          "output_type": "stream",
          "text": [
            "Drive already mounted at /content/drive; to attempt to forcibly remount, call drive.mount(\"/content/drive\", force_remount=True).\n"
          ],
          "name": "stdout"
        }
      ]
    },
    {
      "cell_type": "code",
      "metadata": {
        "id": "ZMXJYiV5PBnQ",
        "colab_type": "code",
        "colab": {}
      },
      "source": [
        "# common variables/functions\n",
        "epochs = 5\n",
        "showWorking = False\n",
        "showWorkingAverage = True\n",
        "batchSize = 10\n",
        "# dropoutRate = 0.5\n",
        "activationFunction = 'relu'\n",
        "iterations = 5\n",
        "model_description_mode = False\n",
        "iterations = 1 if model_description_mode else iterations\n",
        "numFilters = 30\n",
        "\n",
        "def evaluate_dl_model(model, x_train, x_test, y_train, y_test):\n",
        "    accuracy_test = model.evaluate(x_test, y_test, batch_size=batchSize, verbose=showWorking)[1]\n",
        "    accuracy_train = model.evaluate(x_train, y_train, batch_size=batchSize, verbose=showWorking)[1]\n",
        "\n",
        "    # f1-score\n",
        "    y_pred = model.predict_classes(x_test)\n",
        "    # print(y_pred)\n",
        "    f1_score = sklearn.metrics.f1_score(y_test_classes, y_pred, average='micro')\n",
        "    \n",
        "    return accuracy_train, accuracy_test, f1_score\n",
        "\n",
        "def print_dl_metrics(accuracy_train, accuracy_test, f1_score, i, average=False):\n",
        "    if not average:\n",
        "        print(str(i + 1) + \" train: \" + str(accuracy_train / (i + 1)))\n",
        "        print(str(i + 1) + \" test : \" + str(accuracy_test / (i + 1)))\n",
        "        print(str(i + 1) + \" f1   : \" + str(f1_score / (i + 1)))\n",
        "        print()\n",
        "    else:\n",
        "        print(\"Average Accuracy of LSTM model on train: \", accuracy_train / (i + 1))\n",
        "        print(\"Average Accuracy of LSTM model on test : \", accuracy_test / (i + 1))\n",
        "        print(\"Average F1 Score of LSTM model         :\", f1_score / (i + 1))\n",
        "        print()"
      ],
      "execution_count": 0,
      "outputs": []
    },
    {
      "cell_type": "code",
      "metadata": {
        "id": "DsZrSlbhANs1",
        "colab_type": "code",
        "outputId": "95e91dd8-24c5-47db-9d09-4e5ca6cdc7fd",
        "colab": {
          "base_uri": "https://localhost:8080/",
          "height": 443
        }
      },
      "source": [
        "# LSTM model\n",
        "accuracy_average_test = 0\n",
        "accuracy_average_train = 0\n",
        "f1_score_average = 0\n",
        "\n",
        "for i in range(iterations):\n",
        "\tmodel_lstm = Sequential([\n",
        "\t\tLSTM(200, input_shape=(x_train.shape[1], x_train.shape[2])),\n",
        "\t\t# Dropout(dropoutRate),\n",
        "\t\tDense(200),\n",
        "\t\tActivation(activationFunction),\n",
        "\t\tDense(y_train.shape[1]),\n",
        "\t\tActivation('softmax'),\n",
        "\t])\n",
        " \n",
        "\t# save the architecture of the model\n",
        "\tif model_description_mode:\n",
        "\t\tprint(\"LSTM\")\n",
        "\t\tplot_model(model_lstm, colab_directory + 'model_lstm.png')\n",
        "\t\tprint(model_lstm.summary())\t\n",
        "\telse:\n",
        "\t\tmodel_lstm.compile(loss='categorical_crossentropy', optimizer='adam', metrics=['accuracy'])\n",
        "\t\tmodel_lstm.fit(x_train, y_train, epochs=epochs, batch_size=batchSize, verbose=showWorking)\n",
        "\t\t# accuracy_average_test += model_lstm.evaluate(x_test, y_test, batch_size=batchSize, verbose=showWorking)[1]\n",
        "\t\t# accuracy_average_train += model_lstm.evaluate(x_train, y_train, batch_size=batchSize, verbose=showWorking)[1]\n",
        "\n",
        "\t\t# # f1-score\n",
        "\t\t# y_pred = model_lstm.predict_classes(x_test)\n",
        "\t\t# f1_score_average += sklearn.metrics.f1_score(y_test, y_pred, average='micro')\n",
        "\t\taccuracy_train, accuracy_test, f1_score = evaluate_dl_model(model_lstm, x_train, x_test, y_train, y_test)\n",
        "\t\taccuracy_average_train += accuracy_train\n",
        "\t\taccuracy_average_test += accuracy_test\n",
        "\t\tf1_score_average += f1_score\n",
        "\n",
        "\t\tif showWorkingAverage:\n",
        "\t\t\tprint_dl_metrics(accuracy_average_train, accuracy_average_test, f1_score_average, i)\n",
        "if not model_description_mode:\n",
        "\tprint_dl_metrics(accuracy_average_train, accuracy_average_test, f1_score_average, i, average=True)\n",
        "\t\t\t# print(str(i + 1) + \" train: \" + str(accuracy_average_train / (i + 1)))\n",
        "\t\t\t# print(str(i + 1) + \" test : \" + str(accuracy_average_test / (i + 1)))\n",
        "\t\t\t# print(str(i + 1) + \" f1   : \" + str(f1_score_average / (i + 1)))\n",
        "# if not model_description_mode:\n",
        "# \tprint_dl_metrics(accuracy_average_train, accuracy_average_test, f1_score_average, i, average=True)\n",
        "\t# accuracy_average_test /= iterations\n",
        "\t# accuracy_average_train /= iterations\n",
        "\t# f1_score_average /= iterations\n",
        "\t# print(\"Accuracy of LSTM model on train: \", accuracy_average_train)\n",
        "\t# print(\"Accuracy of LSTM model on test : \", accuracy_average_test)\n",
        "\t# print(\"F1 Score of LSTM model         :\", f1_score_average)\n",
        "# print()"
      ],
      "execution_count": 194,
      "outputs": [
        {
          "output_type": "stream",
          "text": [
            "1 train: 0.8964646386377739\n",
            "1 test : 0.8799999952316284\n",
            "1 f1   : 0.88\n",
            "\n",
            "2 train: 0.8055555522441864\n",
            "2 test : 0.755000003427267\n",
            "2 f1   : 0.755\n",
            "\n",
            "3 train: 0.8350168310030542\n",
            "3 test : 0.7999999975164731\n",
            "3 f1   : 0.7999999999999999\n",
            "\n",
            "4 train: 0.8529040352112115\n",
            "4 test : 0.827499995753169\n",
            "4 f1   : 0.8275\n",
            "\n",
            "5 train: 0.8313131271889717\n",
            "5 test : 0.7999999973177909\n",
            "5 f1   : 0.8\n",
            "\n",
            "Average Accuracy of LSTM model on train:  0.8313131271889717\n",
            "Average Accuracy of LSTM model on test :  0.7999999973177909\n",
            "Average F1 Score of LSTM model         : 0.8\n",
            "\n"
          ],
          "name": "stdout"
        }
      ]
    },
    {
      "cell_type": "code",
      "metadata": {
        "id": "U7aai0_qEzHo",
        "colab_type": "code",
        "colab": {
          "base_uri": "https://localhost:8080/",
          "height": 443
        },
        "outputId": "5e1c90f6-78c8-4a7f-bf7e-3beb6e0cb06a"
      },
      "source": [
        "# CNN-LSTM\n",
        "accuracy_average_train = 0\n",
        "accuracy_average_test = 0\n",
        "f1_score_average = 0\n",
        "for i in range(iterations):\n",
        "\ttrainX = x_train.reshape((x_train.shape[0], 3, 20, x_train.shape[2]))\n",
        "\ttestX = x_test.reshape((x_test.shape[0], 3, 20, x_test.shape[2]))\n",
        "\n",
        "\t# conv = Conv1D(filters=numFilters, kernel_size=3, activation=activationFunction)\n",
        "\tconv = Conv1D(filters=numFilters, kernel_size=3)\n",
        "\t# conv2 = Conv1D(filters=64, kernel_size=3, activation=activationFunction)\n",
        "\tmodel_lstm_cnn = Sequential([\n",
        "\t\tTimeDistributed(conv, input_shape=(None, 20, x_train.shape[2])),\n",
        "\t\tTimeDistributed(Activation(activation=activationFunction)),\n",
        "\t\t# TimeDistributed(conv2),\n",
        "\t\t# TimeDistributed(Dropout(dropoutRate)),\n",
        "\t\tTimeDistributed(MaxPooling1D(pool_size=2)),\n",
        "\t\tTimeDistributed(Flatten()),\n",
        "\t\tLSTM(200),\n",
        "\t\t# Dropout(dropoutRate),\n",
        "\t\tDense(200),\n",
        "\t\tActivation(activationFunction),\n",
        "\t\tDense(y_train.shape[1]), # y is one-hot encoded, hence its number of columns is number of classes\n",
        "\t\tActivation('softmax')\n",
        "\t])\n",
        " \n",
        "\tif model_description_mode:\n",
        "\t\t# save the architecture of the model\n",
        "\t\tprint(\"CNN-LSTM\")\n",
        "\t\tplot_model(model_lstm_cnn, colab_directory + 'model_lstm_cnn.png')\n",
        "\t\tprint(model_lstm_cnn.summary())\n",
        "\t\n",
        "\telse:\n",
        "\t\tmodel_lstm_cnn.compile(loss='categorical_crossentropy', optimizer='adam', metrics=['accuracy'])\n",
        "\t\tmodel_lstm_cnn.fit(trainX, y_train, epochs=epochs, batch_size=batchSize, verbose=showWorking)\n",
        "\t\taccuracy_train, accuracy_test, f1_score = evaluate_dl_model(model_lstm_cnn, trainX, testX, y_train, y_test)\n",
        "\t\taccuracy_average_train += accuracy_train\n",
        "\t\taccuracy_average_test += accuracy_test\n",
        "\t\tf1_score_average += f1_score\n",
        "\n",
        "\t\tif showWorkingAverage:\n",
        "\t\t\tprint_dl_metrics(accuracy_average_train, accuracy_average_test, f1_score_average, i)\n",
        "if not model_description_mode:\n",
        "\tprint_dl_metrics(accuracy_average_train, accuracy_average_test, f1_score_average, i, average=True)\n",
        "\n",
        "# \t\taccuracy_average_train += model_lstm_cnn.evaluate(trainX, y_train, batch_size=batchSize, verbose=showWorking)[1]\n",
        "# \t\taccuracy_average_test += model_lstm_cnn.evaluate(testX, y_test, batch_size=batchSize, verbose=showWorking)[1]\n",
        "# \t\tif showWorkingAverage:\n",
        "# \t\t\tprint(str(i + 1) + \" train: \" + str(accuracy_average_train / (i + 1)))\n",
        "# \t\t\tprint(str(i + 1) + \" test : \" + str(accuracy_average_test / (i + 1)))\n",
        "\n",
        "# if not model_description_mode:\n",
        "# \taccuracy_average_test /= iterations\n",
        "# \taccuracy_average_train /= iterations\n",
        "# \tprint(\"Accuracy of LSTM-CNN model on train: \", accuracy_average_train)\n",
        "# \tprint(\"Accuracy of LSTM-CNN model on test : \", accuracy_average_test)\n",
        "# print()"
      ],
      "execution_count": 196,
      "outputs": [
        {
          "output_type": "stream",
          "text": [
            "1 train: 0.9191919092578117\n",
            "1 test : 0.899999988079071\n",
            "1 f1   : 0.9\n",
            "\n",
            "2 train: 0.9154040295668322\n",
            "2 test : 0.8899999916553497\n",
            "2 f1   : 0.89\n",
            "\n",
            "3 train: 0.9250841660531682\n",
            "3 test : 0.9033333241939544\n",
            "3 f1   : 0.9033333333333333\n",
            "\n",
            "4 train: 0.9261363549816488\n",
            "4 test : 0.9074999913573265\n",
            "4 f1   : 0.9075\n",
            "\n",
            "5 train: 0.9217171632882322\n",
            "5 test : 0.9079999911785126\n",
            "5 f1   : 0.908\n",
            "\n",
            "Average Accuracy of LSTM model on train:  0.9217171632882322\n",
            "Average Accuracy of LSTM model on test :  0.9079999911785126\n",
            "Average F1 Score of LSTM model         : 0.908\n",
            "\n"
          ],
          "name": "stdout"
        }
      ]
    },
    {
      "cell_type": "code",
      "metadata": {
        "id": "RXvEjbdJUvSP",
        "colab_type": "code",
        "colab": {
          "base_uri": "https://localhost:8080/",
          "height": 443
        },
        "outputId": "4feca048-e9b5-4e86-deaf-532cbf73e830"
      },
      "source": [
        "# LSTM + conv\n",
        "accuracy_average_train = 0\n",
        "accuracy_average_test = 0\n",
        "f1_score_average = 0\n",
        "for i in range(iterations):\n",
        "\ttrainX = x_train.reshape((x_train.shape[0], 3, 1, 20, x_train.shape[2]))\n",
        "\ttestX = x_test.reshape((x_test.shape[0], 3, 1, 20, x_test.shape[2]))\n",
        "\n",
        "\tmodel_lstm_conv = Sequential([\n",
        "\t\tConvLSTM2D(filters=numFilters, kernel_size=(1,3), input_shape=(3, 1, 20, x_train.shape[2])),\n",
        "\t\tActivation(activationFunction),\n",
        "\t\t# Dropout(dropoutRate),\n",
        "\t\tFlatten(),\n",
        "\t\tDense(200),\n",
        "\t\tActivation(activationFunction),\n",
        "\t\tDense(y_train.shape[1]),\n",
        "\t\tActivation('softmax')\n",
        "\t])\n",
        " \n",
        "\tif model_description_mode:\n",
        "\t\tprint(\"Convolutional LSTM\")\n",
        "\t\t# save the architecture of the model\n",
        "\t\tplot_model(model_lstm_conv, colab_directory + 'model_lstm_conv.png')\n",
        "\t\tprint(model_lstm_conv.summary())\n",
        "\t\n",
        "\telse: \n",
        "\t\tmodel_lstm_conv.compile(loss='categorical_crossentropy', optimizer='adam', metrics=['accuracy'])\n",
        "\t\tmodel_lstm_conv.fit(trainX, y_train, epochs=epochs, batch_size=batchSize, verbose=showWorking)\n",
        "\t\taccuracy_train, accuracy_test, f1_score = evaluate_dl_model(model_lstm_conv, trainX, testX, y_train, y_test)\n",
        "\t\taccuracy_average_train += accuracy_train\n",
        "\t\taccuracy_average_test += accuracy_test\n",
        "\t\tf1_score_average += f1_score\n",
        "\n",
        "\t\tif showWorkingAverage:\n",
        "\t\t\tprint_dl_metrics(accuracy_average_train, accuracy_average_test, f1_score_average, i)\n",
        "if not model_description_mode:\n",
        "\tprint_dl_metrics(accuracy_average_train, accuracy_average_test, f1_score_average, i, average=True)\n",
        "# \t\taccuracy_average_test += model_lstm_conv.evaluate(testX, y_test, batch_size=batchSize, verbose=showWorking)[1]\n",
        "# \t\taccuracy_average_train += model_lstm_conv.evaluate(trainX, y_train, batch_size=batchSize, verbose=showWorking)[1]\n",
        "# \t\tif showWorkingAverage:\n",
        "# \t\t\tprint(str(i + 1) + \" train: \" + str(accuracy_average_train / (i + 1)))\n",
        "# \t\t\tprint(str(i + 1) + \" test : \" + str(accuracy_average_test / (i + 1)))\n",
        "# if not model_description_mode:\n",
        "# \taccuracy_average_test /= iterations\n",
        "# \taccuracy_average_train /= iterations\n",
        "# \tprint(\"Accuracy of LSTM-Conv model on train: \", accuracy_average_train)\n",
        "# \tprint(\"Accuracy of LSTM-Conv model on test : \", accuracy_average_test)\n",
        "# print()"
      ],
      "execution_count": 197,
      "outputs": [
        {
          "output_type": "stream",
          "text": [
            "1 train: 0.9166666591408277\n",
            "1 test : 0.8899999976158142\n",
            "1 f1   : 0.89\n",
            "\n",
            "2 train: 0.9280302959560144\n",
            "2 test : 0.909999993443489\n",
            "2 f1   : 0.91\n",
            "\n",
            "3 train: 0.9318181748944099\n",
            "3 test : 0.9166666567325592\n",
            "3 f1   : 0.9166666666666666\n",
            "\n",
            "4 train: 0.9337121139873157\n",
            "4 test : 0.9199999898672104\n",
            "4 f1   : 0.92\n",
            "\n",
            "5 train: 0.9328282755432706\n",
            "5 test : 0.921999990940094\n",
            "5 f1   : 0.922\n",
            "\n",
            "Average Accuracy of LSTM model on train:  0.9328282755432706\n",
            "Average Accuracy of LSTM model on test :  0.921999990940094\n",
            "Average F1 Score of LSTM model         : 0.922\n",
            "\n"
          ],
          "name": "stdout"
        }
      ]
    },
    {
      "cell_type": "code",
      "metadata": {
        "id": "3H5GixSBY0ml",
        "colab_type": "code",
        "colab": {
          "base_uri": "https://localhost:8080/",
          "height": 52
        },
        "outputId": "103e7884-7bac-4752-8911-61925f83d827"
      },
      "source": [
        "# SVM\n",
        "\n",
        "X = np.load(colab_directory + 'x_svm.npy')\n",
        "Y = np.load(colab_directory + 'y_svm.npy')\n",
        "x_train, x_test, y_train, y_test = sklearn.model_selection.train_test_split(X, Y, test_size=0.2, random_state=2)\n",
        "clf = SVC(gamma='auto', kernel='rbf', verbose=True, probability=True)\n",
        "clf.fit(x_train, y_train)\n",
        "print(\"Train accuracy: \" + str(clf.score(x_train, y_train)))\n",
        "y_pred = clf.predict(x_test)\n",
        "print(\"Test accuracy: \" + str(clf.score(x_test, y_test)))"
      ],
      "execution_count": 110,
      "outputs": [
        {
          "output_type": "stream",
          "text": [
            "[LibSVM]Train accuracy: 0.6596742349457059\n",
            "Test accuracy: 0.6653504442250741\n"
          ],
          "name": "stdout"
        }
      ]
    },
    {
      "cell_type": "code",
      "metadata": {
        "id": "CdCvomw1p8GW",
        "colab_type": "code",
        "colab": {}
      },
      "source": [
        "# f-score\n",
        "\n",
        "# svm\n",
        "x_train, x_test, y_train, y_test = sklearn.model_selection.train_test_split(X, Y, test_size=0.2, random_state=2) # fix it later\n",
        "# y_pred = clf.predict(x_test)\n",
        "# f_score_svm = sklearn.metrics.f1_score(y_test, y_pred, average='micro')\n",
        "# print(f_score_svm)\n",
        "\n",
        "# lstm\n",
        "# x = np.load(colab_directory + \"x.npy\")\n",
        "# y = np.load(colab_directory + \"y.npy\")\n",
        "# x_train, x_test, y_train, y_test = sklearn.model_selection.train_test_split(x, y, test_size=0.2, random_state=2)\n",
        "# trainX = x_train.reshape((x_train.shape[0], 3, 20, x_train.shape[2]))\n",
        "# testX = x_test.reshape((x_test.shape[0], 3, 20, x_test.shape[2]))\n",
        "# y_pred = model_lstm_cnn.predict_classes(testX)\n",
        "# f_score_lstm = sklearn.metrics.f1_score(y_test, y_pred, average='micro')\n",
        "# print(f_score_lstm)\n",
        "# print(y_pred)\n",
        "# print(y_pred.shape)\n",
        "\n"
      ],
      "execution_count": 0,
      "outputs": []
    },
    {
      "cell_type": "code",
      "metadata": {
        "id": "v6O1DQQlKahd",
        "colab_type": "code",
        "colab": {
          "base_uri": "https://localhost:8080/",
          "height": 34
        },
        "outputId": "5943a0b5-a881-49f2-c203-1999daec9ec9"
      },
      "source": [
        "# saving data\n",
        "# np.save(colab_directory + \"x_train_lstm\", x_train)\n",
        "# np.save(colab_directory + \"x_test_lstm\", x_test)\n",
        "# np.save(colab_directory + \"y_train_lstm\", y_train)\n",
        "# np.save(colab_directory + \"y_test_lstm\", y_test)\n",
        "# print(x_train.shape)\n",
        "\n",
        "# saving model\n",
        "# model_lstm.save(colab_directory + \"model_lstm.h5\")\n",
        "# model_lstm_cnn.save(colab_directory + \"model_lstm_cnn.h5\")\n",
        "# model_lstm_conv.save(colab_directory + \"model_lstm_conv.h5\")\n",
        "\n",
        "# np.save(colab_directory + \"y_train_classes_lstm\", y_train_classes)\n",
        "# np.save(colab_directory + \"y_test_classes_lstm\", y_test_classes)\n",
        "# np.save(colab_directory + \"x_train_svm\")\n",
        "# dump(clf, colab_directory + \"svm.joblib\")\n",
        "\n"
      ],
      "execution_count": 206,
      "outputs": [
        {
          "output_type": "execute_result",
          "data": {
            "text/plain": [
              "['/content/drive/My Drive/Colab Notebooks/ML Course Project/svm.joblib']"
            ]
          },
          "metadata": {
            "tags": []
          },
          "execution_count": 206
        }
      ]
    },
    {
      "cell_type": "code",
      "metadata": {
        "id": "NdrNz8quK19b",
        "colab_type": "code",
        "colab": {}
      },
      "source": [
        ""
      ],
      "execution_count": 0,
      "outputs": []
    }
  ]
}