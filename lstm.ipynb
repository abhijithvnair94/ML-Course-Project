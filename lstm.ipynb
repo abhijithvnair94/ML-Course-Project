{
  "nbformat": 4,
  "nbformat_minor": 0,
  "metadata": {
    "colab": {
      "name": "project.ipynb",
      "provenance": [],
      "collapsed_sections": [],
      "include_colab_link": true
    },
    "kernelspec": {
      "name": "python3",
      "display_name": "Python 3"
    },
    "accelerator": "GPU"
  },
  "cells": [
    {
      "cell_type": "markdown",
      "metadata": {
        "id": "view-in-github",
        "colab_type": "text"
      },
      "source": [
        "<a href=\"https://colab.research.google.com/github/reeshabhkumarranjan/ML-Course-Project/blob/master/lstm.ipynb\" target=\"_parent\"><img src=\"https://colab.research.google.com/assets/colab-badge.svg\" alt=\"Open In Colab\"/></a>"
      ]
    },
    {
      "cell_type": "code",
      "metadata": {
        "id": "W-rTNdvqI6dy",
        "colab_type": "code",
        "colab": {}
      },
      "source": [
        "# imports\n",
        "import numpy as np\n",
        "import glob\n",
        "from keras import Sequential\n",
        "import sklearn, sklearn.model_selection\n",
        "from keras import Sequential\n",
        "from keras.layers import LSTM, Dropout, Dense, TimeDistributed, Conv1D, MaxPooling1D, Flatten, ConvLSTM2D, Activation\n",
        "from keras.utils import to_categorical, plot_model"
      ],
      "execution_count": 0,
      "outputs": []
    },
    {
      "cell_type": "code",
      "metadata": {
        "id": "GqJr6jhBQ_XJ",
        "colab_type": "code",
        "outputId": "38f95dcd-33b6-4c08-f5d1-5a92917c4c3e",
        "colab": {
          "base_uri": "https://localhost:8080/",
          "height": 34
        }
      },
      "source": [
        "# mounting drive\n",
        "from google.colab import drive\n",
        "drive.mount('/content/drive')\n",
        "\n",
        "# loading data\n",
        "colab_directory = '/content/drive/My Drive/Colab Notebooks/ML Course Project/'\n",
        "x = np.load(colab_directory + \"x.npy\")\n",
        "y = np.load(colab_directory + \"y.npy\")\n",
        "x_train, x_test, y_train, y_test = sklearn.model_selection.train_test_split(x, y, test_size=0.2, random_state=2)\n",
        "y_train = to_categorical(y_train)\n",
        "y_test = to_categorical(y_test)"
      ],
      "execution_count": 94,
      "outputs": [
        {
          "output_type": "stream",
          "text": [
            "Drive already mounted at /content/drive; to attempt to forcibly remount, call drive.mount(\"/content/drive\", force_remount=True).\n"
          ],
          "name": "stdout"
        }
      ]
    },
    {
      "cell_type": "code",
      "metadata": {
        "id": "ZMXJYiV5PBnQ",
        "colab_type": "code",
        "colab": {}
      },
      "source": [
        "# common variables\n",
        "epochs = 3\n",
        "showWorking = False\n",
        "showWorkingAverage = True\n",
        "batchSize = 10\n",
        "dropoutRate = 0.5\n",
        "activationFunction = 'relu'\n",
        "iterations = 5\n",
        "model_description_mode = False\n",
        "iterations = 1 if model_description_mode else iterations\n",
        "numFilters = 30"
      ],
      "execution_count": 0,
      "outputs": []
    },
    {
      "cell_type": "code",
      "metadata": {
        "id": "DsZrSlbhANs1",
        "colab_type": "code",
        "outputId": "b60c96df-c5e7-4300-f0be-ca76382dc644",
        "colab": {
          "base_uri": "https://localhost:8080/",
          "height": 141
        }
      },
      "source": [
        "# LSTM model\n",
        "accuracy_average = 0\n",
        "for i in range(iterations):\n",
        "\tmodel_lstm = Sequential([\n",
        "\t\tLSTM(200, input_shape=(x_train.shape[1], x_train.shape[2])),\n",
        "\t\t# Dropout(dropoutRate),\n",
        "\t\tDense(200),\n",
        "\t\tActivation(activationFunction),\n",
        "\t\tDense(y_train.shape[1]),\n",
        "\t\tActivation('softmax'),\n",
        "\t])\n",
        " \n",
        "\t# save the architecture of the model\n",
        "\tif model_description_mode:\n",
        "\t\tprint(\"LSTM\")\n",
        "\t\tplot_model(model_lstm, colab_directory + 'model_lstm.png')\n",
        "\t\tprint(model_lstm.summary())\t\n",
        "\telse:\n",
        "\t\tmodel_lstm.compile(loss='categorical_crossentropy', optimizer='adam', metrics=['accuracy'])\n",
        "\t\tmodel_lstm.fit(x_train, y_train, epochs=epochs, batch_size=batchSize, verbose=showWorking)\n",
        "\t\taccuracy_average += model_lstm.evaluate(x_test, y_test, batch_size=batchSize, verbose=showWorking)[1]\n",
        "\t\tif showWorkingAverage:\n",
        "\t\t\tprint(str(i + 1) + \": \" + str(accuracy_average / (i + 1)))\n",
        "if not model_description_mode:\n",
        "\taccuracy_average /= iterations\n",
        "\tprint(\"Accuracy of LSTM model on test: \", accuracy_average)\n",
        "print()"
      ],
      "execution_count": 96,
      "outputs": [
        {
          "output_type": "stream",
          "text": [
            "1: 0.590000006556511\n",
            "2: 0.6300000056624413\n",
            "3: 0.7233333359162013\n",
            "4: 0.7400000013411046\n",
            "5: 0.7799999994039536\n",
            "Accuracy of LSTM model on test:  0.7799999994039536\n",
            "\n"
          ],
          "name": "stdout"
        }
      ]
    },
    {
      "cell_type": "code",
      "metadata": {
        "id": "U7aai0_qEzHo",
        "colab_type": "code",
        "colab": {
          "base_uri": "https://localhost:8080/",
          "height": 141
        },
        "outputId": "8c3dc832-daea-48df-c81c-1eb5cb2ed0a8"
      },
      "source": [
        "# CNN-LSTM\n",
        "accuracy_average = 0\n",
        "for i in range(iterations):\n",
        "\ttrainX = x_train.reshape((x_train.shape[0], 3, 20, x_train.shape[2]))\n",
        "\ttestX = x_test.reshape((x_test.shape[0], 3, 20, x_test.shape[2]))\n",
        "\n",
        "\t# conv = Conv1D(filters=numFilters, kernel_size=3, activation=activationFunction)\n",
        "\tconv = Conv1D(filters=numFilters, kernel_size=3)\n",
        "\t# conv2 = Conv1D(filters=64, kernel_size=3, activation=activationFunction)\n",
        "\tmodel_lstm_cnn = Sequential([\n",
        "\t\tTimeDistributed(conv, input_shape=(None, 20, x_train.shape[2])),\n",
        "\t\tTimeDistributed(Activation(activation=activationFunction)),\n",
        "\t\t# TimeDistributed(conv2),\n",
        "\t\t# TimeDistributed(Dropout(dropoutRate)),\n",
        "\t\tTimeDistributed(MaxPooling1D(pool_size=2)),\n",
        "\t\tTimeDistributed(Flatten()),\n",
        "\t\tLSTM(200),\n",
        "\t\t# Dropout(dropoutRate),\n",
        "\t\tDense(200),\n",
        "\t\tActivation(activationFunction),\n",
        "\t\tDense(y_train.shape[1]), # y is one-hot encoded, hence its number of columns is number of classes\n",
        "\t\tActivation('softmax')\n",
        "\t])\n",
        " \n",
        "\tif model_description_mode:\n",
        "\t\t# save the architecture of the model\n",
        "\t\tprint(\"CNN-LSTM\")\n",
        "\t\tplot_model(model_lstm_cnn, colab_directory + 'model_lstm_cnn.png')\n",
        "\t\tprint(model_lstm_cnn.summary())\n",
        "\t\n",
        "\telse:\n",
        "\t\tmodel_lstm_cnn.compile(loss='categorical_crossentropy', optimizer='adam', metrics=['accuracy'])\n",
        "\t\tmodel_lstm_cnn.fit(trainX, y_train, epochs=epochs, batch_size=batchSize, verbose=showWorking)\n",
        "\n",
        "\t\taccuracy_average += model_lstm_cnn.evaluate(testX, y_test, batch_size=batchSize, verbose=showWorking)[1]\n",
        "\t\tif showWorkingAverage:\n",
        "\t\t\tprint(str(i + 1) + \": \" + str(accuracy_average / (i + 1)))\n",
        "\n",
        "if not model_description_mode:\n",
        "\taccuracy_average /= iterations\n",
        "\tprint(\"Accuracy of LSTM-CNN model on test: \", accuracy_average)\n",
        "print()"
      ],
      "execution_count": 97,
      "outputs": [
        {
          "output_type": "stream",
          "text": [
            "1: 0.8200000047683715\n",
            "2: 0.8749999970197677\n",
            "3: 0.8966666599114737\n",
            "4: 0.9074999913573265\n",
            "5: 0.8939999926090241\n",
            "Accuracy of LSTM-CNN model on test:  0.8939999926090241\n",
            "\n"
          ],
          "name": "stdout"
        }
      ]
    },
    {
      "cell_type": "code",
      "metadata": {
        "id": "RXvEjbdJUvSP",
        "colab_type": "code",
        "colab": {
          "base_uri": "https://localhost:8080/",
          "height": 141
        },
        "outputId": "8d3279d7-11e1-4a20-e0b9-94564fdf0a12"
      },
      "source": [
        "# LSTM + conv\n",
        "accuracy_average = 0\n",
        "for i in range(iterations):\n",
        "\ttrainX = x_train.reshape((x_train.shape[0], 3, 1, 20, x_train.shape[2]))\n",
        "\ttestX = x_test.reshape((x_test.shape[0], 3, 1, 20, x_test.shape[2]))\n",
        "\n",
        "\tmodel_lstm_conv = Sequential([\n",
        "\t\tConvLSTM2D(filters=numFilters, kernel_size=(1,3), input_shape=(3, 1, 20, x_train.shape[2])),\n",
        "\t\tActivation(activationFunction),\n",
        "\t\t# Dropout(dropoutRate),\n",
        "\t\tFlatten(),\n",
        "\t\tDense(200),\n",
        "\t\tActivation(activationFunction),\n",
        "\t\tDense(y_train.shape[1]),\n",
        "\t\tActivation('softmax')\n",
        "\t])\n",
        " \n",
        "\tif model_description_mode:\n",
        "\t\tprint(\"Convolutional LSTM\")\n",
        "\t\t# save the architecture of the model\n",
        "\t\tplot_model(model_lstm_conv, colab_directory + 'model_lstm_conv.png')\n",
        "\t\tprint(model_lstm_conv.summary())\n",
        "\t\n",
        "\telse: \n",
        "\t\tmodel_lstm_conv.compile(loss='categorical_crossentropy', optimizer='adam', metrics=['accuracy'])\n",
        "\t\tmodel_lstm_conv.fit(trainX, y_train, epochs=epochs, batch_size=batchSize, verbose=showWorking)\n",
        "\n",
        "\t\taccuracy_average += model_lstm_conv.evaluate(testX, y_test, batch_size=batchSize, verbose=showWorking)[1]\n",
        "\t\tif showWorkingAverage:\n",
        "\t\t\tprint(str(i + 1) + \": \" + str(accuracy_average / (i + 1)))\n",
        "if not model_description_mode:\n",
        "\taccuracy_average /= iterations\n",
        "\tprint(\"Accuracy of LSTM-Conv model on test: \", accuracy_average)\n",
        "print()"
      ],
      "execution_count": 98,
      "outputs": [
        {
          "output_type": "stream",
          "text": [
            "1: 0.8899999916553497\n",
            "2: 0.9049999922513962\n",
            "3: 0.8966666599114737\n",
            "4: 0.9049999922513963\n",
            "5: 0.8999999916553498\n",
            "Accuracy of LSTM-Conv model on test:  0.8999999916553498\n",
            "\n"
          ],
          "name": "stdout"
        }
      ]
    }
  ]
}